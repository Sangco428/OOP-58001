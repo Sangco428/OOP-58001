{
  "nbformat": 4,
  "nbformat_minor": 0,
  "metadata": {
    "colab": {
      "name": "Fundamentals of Python.ipynb",
      "provenance": [],
      "authorship_tag": "ABX9TyO2uImxlGA9fFnkhbYvNFR1",
      "include_colab_link": true
    },
    "kernelspec": {
      "name": "python3",
      "display_name": "Python 3"
    },
    "language_info": {
      "name": "python"
    }
  },
  "cells": [
    {
      "cell_type": "markdown",
      "metadata": {
        "id": "view-in-github",
        "colab_type": "text"
      },
      "source": [
        "<a href=\"https://colab.research.google.com/github/Sangco428/OOP-58001/blob/main/Fundamentals_of_Python.ipynb\" target=\"_parent\"><img src=\"https://colab.research.google.com/assets/colab-badge.svg\" alt=\"Open In Colab\"/></a>"
      ]
    },
    {
      "cell_type": "markdown",
      "source": [
        "# Fundamentals of Python"
      ],
      "metadata": {
        "id": "UsyoQyg6kG85"
      }
    },
    {
      "cell_type": "markdown",
      "source": [
        "Python Variables"
      ],
      "metadata": {
        "id": "5dg5GS2GkYlj"
      }
    },
    {
      "cell_type": "code",
      "execution_count": null,
      "metadata": {
        "colab": {
          "base_uri": "https://localhost:8080/"
        },
        "id": "ev16ovQBjRRe",
        "outputId": "0f8c9ff9-3fb5-42ee-84ad-1f522f66d038"
      },
      "outputs": [
        {
          "output_type": "stream",
          "name": "stdout",
          "text": [
            "This is a sample\n",
            "Sally\n"
          ]
        }
      ],
      "source": [
        "x = float(1)\n",
        "d, e = 0, -1\n",
        "a, b, c=\"Sally\", \"John\", \"Ana\"\n",
        "\n",
        "print(\"This is a sample\")\n",
        "print(a)\n"
      ]
    },
    {
      "cell_type": "markdown",
      "source": [
        "Casting"
      ],
      "metadata": {
        "id": "op49c4A6mJaE"
      }
    },
    {
      "cell_type": "code",
      "source": [
        "print(x)"
      ],
      "metadata": {
        "colab": {
          "base_uri": "https://localhost:8080/"
        },
        "id": "HtkGPfwumY09",
        "outputId": "8ff08029-9a8c-433f-f934-223aafcdcbfe"
      },
      "execution_count": null,
      "outputs": [
        {
          "output_type": "stream",
          "name": "stdout",
          "text": [
            "1.0\n"
          ]
        }
      ]
    },
    {
      "cell_type": "markdown",
      "source": [
        "Type Function"
      ],
      "metadata": {
        "id": "ti8Aynj7m-f1"
      }
    },
    {
      "cell_type": "code",
      "source": [
        "y = \"Johnny\"\n",
        "print(type(y))"
      ],
      "metadata": {
        "colab": {
          "base_uri": "https://localhost:8080/"
        },
        "id": "Loifpv87nAgb",
        "outputId": "4eb7b368-eee0-4d12-f7d6-758af9f5a74b"
      },
      "execution_count": null,
      "outputs": [
        {
          "output_type": "stream",
          "name": "stdout",
          "text": [
            "<class 'str'>\n"
          ]
        }
      ]
    },
    {
      "cell_type": "markdown",
      "source": [
        "Double quotes and Single quotes"
      ],
      "metadata": {
        "id": "NOIzri7ynu7F"
      }
    },
    {
      "cell_type": "code",
      "source": [
        "h = \"Maria\"\n",
        "h = 'Maria'\n",
        "v = 1\n",
        "V = 2\n",
        "\n",
        "print(h)"
      ],
      "metadata": {
        "colab": {
          "base_uri": "https://localhost:8080/"
        },
        "id": "3bt4ybDbnyeN",
        "outputId": "48055dd4-03f9-4b28-cebc-db2f5a9a6da5"
      },
      "execution_count": 57,
      "outputs": [
        {
          "output_type": "stream",
          "name": "stdout",
          "text": [
            "Maria\n"
          ]
        }
      ]
    },
    {
      "cell_type": "markdown",
      "source": [
        "Multiple Variables"
      ],
      "metadata": {
        "id": "DTiyD71GpF6j"
      }
    },
    {
      "cell_type": "code",
      "source": [
        "x, y, z = \"one\", 'two', \"three\"\n",
        "\n",
        "print(x)\n",
        "print(y)\n",
        "print(z)"
      ],
      "metadata": {
        "colab": {
          "base_uri": "https://localhost:8080/"
        },
        "id": "WSxRg6OEpIer",
        "outputId": "13ab26a8-a615-4f39-e23f-dad2a32520d8"
      },
      "execution_count": null,
      "outputs": [
        {
          "output_type": "stream",
          "name": "stdout",
          "text": [
            "one\n",
            "two\n",
            "three\n"
          ]
        }
      ]
    },
    {
      "cell_type": "markdown",
      "source": [
        "One Variables to Multiple Variables"
      ],
      "metadata": {
        "id": "2u_iOwgGquAY"
      }
    },
    {
      "cell_type": "code",
      "source": [
        "x = y = z =\"Stella\"\n",
        "\n",
        "print(x)\n",
        "print(y)\n",
        "print(z)\n",
        "print(x, y, z)"
      ],
      "metadata": {
        "colab": {
          "base_uri": "https://localhost:8080/"
        },
        "id": "TVDv01tEqviI",
        "outputId": "0b564c2f-3471-4905-9eae-0b8ee7f2c05a"
      },
      "execution_count": 31,
      "outputs": [
        {
          "output_type": "stream",
          "name": "stdout",
          "text": [
            "Stella\n",
            "Stella\n",
            "Stella\n",
            "Stella Stella Stella\n"
          ]
        }
      ]
    },
    {
      "cell_type": "markdown",
      "source": [
        "Output Variables"
      ],
      "metadata": {
        "id": "_byNMXJurAUU"
      }
    },
    {
      "cell_type": "code",
      "source": [
        "x = \"enjoying\"\n",
        "y = \"Python is\"\n",
        "\n",
        "print(y + \" \" + x)"
      ],
      "metadata": {
        "colab": {
          "base_uri": "https://localhost:8080/"
        },
        "id": "lMygIhmPq_p_",
        "outputId": "e23ab426-e81b-43d1-e35f-a2a91c211286"
      },
      "execution_count": null,
      "outputs": [
        {
          "output_type": "stream",
          "name": "stdout",
          "text": [
            "Python is enjoying\n"
          ]
        }
      ]
    },
    {
      "cell_type": "markdown",
      "source": [
        "Arithmetic Operators"
      ],
      "metadata": {
        "id": "YYyeF90ftUne"
      }
    },
    {
      "cell_type": "code",
      "source": [
        "f= 1\n",
        "g= 2\n",
        "i= 6\n",
        "\n",
        "print(f+g)\n",
        "print(f-g)\n",
        "print(f*g)\n",
        "print(int(i/g))\n",
        "print(3/g)\n",
        "print(3%g)\n",
        "print(3//g)"
      ],
      "metadata": {
        "colab": {
          "base_uri": "https://localhost:8080/"
        },
        "id": "opfkQtOdtYqd",
        "outputId": "0c5ea482-9c3c-4c6b-a7f8-e57d56493ff8"
      },
      "execution_count": 43,
      "outputs": [
        {
          "output_type": "stream",
          "name": "stdout",
          "text": [
            "3\n",
            "-1\n",
            "2\n",
            "3\n",
            "1.5\n",
            "1\n",
            "1\n"
          ]
        }
      ]
    },
    {
      "cell_type": "markdown",
      "source": [
        "Boolean Operators"
      ],
      "metadata": {
        "id": "YiVqOWi8xHz-"
      }
    },
    {
      "cell_type": "code",
      "source": [
        "k=2\n",
        "l=1\n",
        "\n",
        "print(k>>2)#shift right right twice\n",
        "print(k<<2)#shift left right twice\n"
      ],
      "metadata": {
        "colab": {
          "base_uri": "https://localhost:8080/"
        },
        "id": "nLDoOxAtxKzZ",
        "outputId": "0f263c08-8cb3-44d8-d863-3eff3a8d7f85"
      },
      "execution_count": 53,
      "outputs": [
        {
          "output_type": "stream",
          "name": "stdout",
          "text": [
            "0\n",
            "4\n"
          ]
        }
      ]
    },
    {
      "cell_type": "markdown",
      "source": [
        "Assignment Operators"
      ],
      "metadata": {
        "id": "69lLkbLfz4qQ"
      }
    },
    {
      "cell_type": "code",
      "source": [
        "s = 2\n",
        "\n",
        "s*=5 #Same as s = s * 5\n",
        "print(s)"
      ],
      "metadata": {
        "colab": {
          "base_uri": "https://localhost:8080/"
        },
        "id": "vEPduc6Mz63U",
        "outputId": "39a8c7c0-d1f6-42fc-8ec6-5253a70989db"
      },
      "execution_count": 54,
      "outputs": [
        {
          "output_type": "stream",
          "name": "stdout",
          "text": [
            "10\n"
          ]
        }
      ]
    },
    {
      "cell_type": "markdown",
      "source": [
        "Relational Opperators"
      ],
      "metadata": {
        "id": "MgKwcfLc0POQ"
      }
    },
    {
      "cell_type": "code",
      "source": [
        "print(v>s) #v= 1, s =2\n",
        "\n",
        "print(v==s)"
      ],
      "metadata": {
        "colab": {
          "base_uri": "https://localhost:8080/"
        },
        "id": "I-yop2gd0Nvi",
        "outputId": "b550990b-5817-4971-b698-1b691b9da84f"
      },
      "execution_count": 61,
      "outputs": [
        {
          "output_type": "stream",
          "name": "stdout",
          "text": [
            "False\n",
            "False\n"
          ]
        }
      ]
    },
    {
      "cell_type": "markdown",
      "source": [
        "Logical Operators"
      ],
      "metadata": {
        "id": "vxUMKCdK1M8G"
      }
    },
    {
      "cell_type": "code",
      "source": [
        "print(v<s and s==s)\n",
        "print(v<s or v==s)\n",
        "print(not(v<s or v==s))"
      ],
      "metadata": {
        "colab": {
          "base_uri": "https://localhost:8080/"
        },
        "id": "d2uZm1ZM1OiO",
        "outputId": "81ddc602-b5aa-4dcb-cb98-576c93cce3a2"
      },
      "execution_count": 66,
      "outputs": [
        {
          "output_type": "stream",
          "name": "stdout",
          "text": [
            "True\n",
            "True\n",
            "False\n"
          ]
        }
      ]
    },
    {
      "cell_type": "markdown",
      "source": [
        "Identity Operators"
      ],
      "metadata": {
        "id": "ILtV2N5r2DMc"
      }
    },
    {
      "cell_type": "code",
      "source": [
        "print(v is s)\n",
        "v is not s"
      ],
      "metadata": {
        "colab": {
          "base_uri": "https://localhost:8080/"
        },
        "id": "xAYQjtbK2FBk",
        "outputId": "74b9ddf9-4c5e-4eec-d33a-e5729add4167"
      },
      "execution_count": 68,
      "outputs": [
        {
          "output_type": "stream",
          "name": "stdout",
          "text": [
            "False\n"
          ]
        },
        {
          "output_type": "execute_result",
          "data": {
            "text/plain": [
              "True"
            ]
          },
          "metadata": {},
          "execution_count": 68
        }
      ]
    }
  ]
}