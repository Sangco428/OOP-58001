{
  "nbformat": 4,
  "nbformat_minor": 0,
  "metadata": {
    "colab": {
      "name": "Prelim Exam.ipynb",
      "provenance": [],
      "authorship_tag": "ABX9TyNzvIuM3f1MnWZTP8jrl6wu",
      "include_colab_link": true
    },
    "kernelspec": {
      "name": "python3",
      "display_name": "Python 3"
    },
    "language_info": {
      "name": "python"
    }
  },
  "cells": [
    {
      "cell_type": "markdown",
      "metadata": {
        "id": "view-in-github",
        "colab_type": "text"
      },
      "source": [
        "<a href=\"https://colab.research.google.com/github/Sangco428/OOP-58001/blob/main/Prelim_Exam.ipynb\" target=\"_parent\"><img src=\"https://colab.research.google.com/assets/colab-badge.svg\" alt=\"Open In Colab\"/></a>"
      ]
    },
    {
      "cell_type": "markdown",
      "source": [
        "Write a Python to display your full name, student number, age, and course\n",
        "1. Create a class named Student with attributes: Name, Student_No, Age, School, and Course\n",
        "2. Create an object name Myself and assign an instance for each attribute.\n",
        "3. Create a method Self () using an instantiation of a class.\n",
        "4. Insert your GitHub link \"Prelim Exam\" from your repository named \"OOP 58001\" "
      ],
      "metadata": {
        "id": "X_XmVDGtExOH"
      }
    },
    {
      "cell_type": "code",
      "execution_count": 41,
      "metadata": {
        "colab": {
          "base_uri": "https://localhost:8080/"
        },
        "id": "_7orh__xEnlc",
        "outputId": "6d2239ee-b6ae-4691-a44a-031d46ce04be"
      },
      "outputs": [
        {
          "output_type": "stream",
          "name": "stdout",
          "text": [
            "Welcome Sangco, Jerrold, to Adamson University Your student number is 202110017, a freshman of BS CPE at the age of 19 Years Old\n"
          ]
        }
      ],
      "source": [
        "class Student():\n",
        "  def __init__(self,Name,Student_No,Age,School,Course):\n",
        "    self.Student_No = Student_No\n",
        "    self.Name = Name\n",
        "    self.Age = Age\n",
        "    self.School = School\n",
        "    self.Course = Course\n",
        "\n",
        "  def Info(self):\n",
        "    print(\"Welcome\", self.Name + \", to\", self.School, \"Your student number is\", self.Student_No + \",\", \"a freshman of\", self.Course, \"at the age of\", self.Age, \"Years Old\")\n",
        "\n",
        "Student1 = Student(\"Sangco, Jerrold\", \"202110017\", \"19\", \"Adamson University\", \"BS CPE\")\n",
        "Student1.Info()"
      ]
    },
    {
      "cell_type": "markdown",
      "source": [
        "#Alternative Program"
      ],
      "metadata": {
        "id": "PbI7xxOPPrDc"
      }
    },
    {
      "cell_type": "code",
      "source": [
        "class Student():\n",
        "  def __init__(self,Name,Student_No,Age,School,Course):\n",
        "    self.Student_No = Student_No\n",
        "    self.Name = Name\n",
        "    self.Age = Age\n",
        "    self.School = School\n",
        "    self.Course = Course\n",
        "\n",
        "  def Self(self):\n",
        "    print(\"Welcome\", self.Name + \", to\", self.School, \"Your student number is\", self.Student_No + \",\", \"a freshman of\", self.Course, \"at the age of\", self.Age, \"Years Old\")\n",
        "\n",
        "Student1 = Student(str(input(\"Input your Name: \")), str(input(\"Input your student number: \")), str(input(\"Input your age: \")), str(input(\"Input your School: \")), str(input(\"Input your Course: \")))\n",
        "Student1.Self()"
      ],
      "metadata": {
        "colab": {
          "base_uri": "https://localhost:8080/"
        },
        "id": "qltu5tXHPmx6",
        "outputId": "1a9a04a5-bd20-4ef1-a75f-075690473a7f"
      },
      "execution_count": 42,
      "outputs": [
        {
          "output_type": "stream",
          "name": "stdout",
          "text": [
            "Input your Name: Sangco, Jerrold\n",
            "Input your student number: 202110017\n",
            "Input your age: 19\n",
            "Input your School: Adamson University\n",
            "Input your Course: BS CPE\n",
            "Welcome Sangco, Jerrold, to Adamson University Your student number is 202110017, a freshman of BS CPE at the age of 19 Years Old\n"
          ]
        }
      ]
    }
  ]
}