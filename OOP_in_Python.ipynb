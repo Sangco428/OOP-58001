{
  "nbformat": 4,
  "nbformat_minor": 0,
  "metadata": {
    "colab": {
      "name": "OOP in Python.ipynb",
      "provenance": [],
      "collapsed_sections": [],
      "authorship_tag": "ABX9TyOfJPGTYJ0bDHevlE2rceN0",
      "include_colab_link": true
    },
    "kernelspec": {
      "name": "python3",
      "display_name": "Python 3"
    },
    "language_info": {
      "name": "python"
    }
  },
  "cells": [
    {
      "cell_type": "markdown",
      "metadata": {
        "id": "view-in-github",
        "colab_type": "text"
      },
      "source": [
        "<a href=\"https://colab.research.google.com/github/Sangco428/OOP-58001/blob/main/OOP_in_Python.ipynb\" target=\"_parent\"><img src=\"https://colab.research.google.com/assets/colab-badge.svg\" alt=\"Open In Colab\"/></a>"
      ]
    },
    {
      "cell_type": "markdown",
      "source": [
        "Creat a Class"
      ],
      "metadata": {
        "id": "zivvROTckPDs"
      }
    },
    {
      "cell_type": "code",
      "execution_count": null,
      "metadata": {
        "id": "fBzHMLeRjGIJ"
      },
      "outputs": [],
      "source": [
        "class MyClass:\n",
        "  pass          #to create a class without method"
      ]
    },
    {
      "cell_type": "code",
      "source": [
        "class MyClass:  # the name of the class\n",
        "  x = 40        #property of the class named MyClass"
      ],
      "metadata": {
        "id": "yGe9207YrXiM"
      },
      "execution_count": null,
      "outputs": []
    },
    {
      "cell_type": "code",
      "source": [
        "class Car():        #create a class named Car\n",
        "  def __init__(self,name,color): \n",
        "    self.name = name                #Represents the instance of class named Car\n",
        "    self.color = color              \n",
        "\n",
        "  def description(self):\n",
        "    return \"The \" + self.name + \" has a color \" + self.color\n",
        "  def display(self):\n",
        "    print(\"The name and color of the car \" +self.description())\n",
        "\n",
        "obj1 = Car(\"Toyota\",\"Black\")\n",
        "obj1.display()"
      ],
      "metadata": {
        "colab": {
          "base_uri": "https://localhost:8080/"
        },
        "id": "hR6QXf9WvKc3",
        "outputId": "e4e5003d-68d9-4e27-94a0-5c2adcf8b4c6"
      },
      "execution_count": null,
      "outputs": [
        {
          "output_type": "stream",
          "name": "stdout",
          "text": [
            "The name and color of the car The Toyota has a color Black\n"
          ]
        }
      ]
    },
    {
      "cell_type": "markdown",
      "source": [
        "Modify an Object Property"
      ],
      "metadata": {
        "id": "CPdDWNH2w0RK"
      }
    },
    {
      "cell_type": "code",
      "source": [
        "obj1.name = \"Mitsubishi\"\n",
        "print(obj1.name)"
      ],
      "metadata": {
        "colab": {
          "base_uri": "https://localhost:8080/"
        },
        "id": "kC8zrL8rxTjK",
        "outputId": "6fab6414-fd3c-4252-c80a-b182f629bfb9"
      },
      "execution_count": null,
      "outputs": [
        {
          "output_type": "stream",
          "name": "stdout",
          "text": [
            "Mitsubishi\n"
          ]
        }
      ]
    },
    {
      "cell_type": "code",
      "source": [
        "obj1.display()"
      ],
      "metadata": {
        "colab": {
          "base_uri": "https://localhost:8080/"
        },
        "id": "LO16ax8cxc3J",
        "outputId": "d9845bd0-0cfb-47c7-a345-2f01f1ab172e"
      },
      "execution_count": null,
      "outputs": [
        {
          "output_type": "stream",
          "name": "stdout",
          "text": [
            "The name and color of the car The Mitsubishi has a color Black\n"
          ]
        }
      ]
    },
    {
      "cell_type": "markdown",
      "source": [
        "Delete the Object Propert"
      ],
      "metadata": {
        "id": "383DPG3yxnop"
      }
    },
    {
      "cell_type": "code",
      "source": [
        "del obj1\n",
        "print(obj1.color)"
      ],
      "metadata": {
        "colab": {
          "base_uri": "https://localhost:8080/",
          "height": 190
        },
        "id": "8GjzL_dwxrVw",
        "outputId": "8d39a171-3525-4255-a079-2c0f9c97a5e4"
      },
      "execution_count": null,
      "outputs": [
        {
          "output_type": "error",
          "ename": "NameError",
          "evalue": "ignored",
          "traceback": [
            "\u001b[0;31m---------------------------------------------------------------------------\u001b[0m",
            "\u001b[0;31mNameError\u001b[0m                                 Traceback (most recent call last)",
            "\u001b[0;32m<ipython-input-20-ca8b75fa52e8>\u001b[0m in \u001b[0;36m<module>\u001b[0;34m()\u001b[0m\n\u001b[1;32m      1\u001b[0m \u001b[0;32mdel\u001b[0m \u001b[0mobj1\u001b[0m\u001b[0;34m\u001b[0m\u001b[0;34m\u001b[0m\u001b[0m\n\u001b[0;32m----> 2\u001b[0;31m \u001b[0mprint\u001b[0m\u001b[0;34m(\u001b[0m\u001b[0mobj1\u001b[0m\u001b[0;34m.\u001b[0m\u001b[0mcolor\u001b[0m\u001b[0;34m)\u001b[0m\u001b[0;34m\u001b[0m\u001b[0;34m\u001b[0m\u001b[0m\n\u001b[0m",
            "\u001b[0;31mNameError\u001b[0m: name 'obj1' is not defined"
          ]
        }
      ]
    },
    {
      "cell_type": "markdown",
      "source": [
        "Application 1- Write a Python program to compute the area and perimeter of a Rectangle. Use Rectangle as class name, and length and width and width as attributes"
      ],
      "metadata": {
        "id": "txRuNptc12E6"
      }
    },
    {
      "cell_type": "code",
      "source": [
        "class Rectangle():\n",
        "  def __init__(self,length,width):\n",
        "    self.length = length\n",
        "    self.width = width\n",
        "\n",
        "  def Area(self):\n",
        "    return self.length*self.width\n",
        "  \n",
        "  def Perimeter(self):\n",
        "    return 2*(self.length*self.width)\n",
        "\n",
        "  def display(self):\n",
        "    print(\"The area of rectangle is \",self.Area())\n",
        "    print(\"The Perimeter of rectangle is \",self.Perimeter())\n",
        "\n",
        "pol = Rectangle(7,4.5)\n",
        "pol.display()"
      ],
      "metadata": {
        "colab": {
          "base_uri": "https://localhost:8080/"
        },
        "id": "L7DT8JEU2FrP",
        "outputId": "77b95c68-cace-487f-9699-0f4b70e4cebe"
      },
      "execution_count": null,
      "outputs": [
        {
          "output_type": "stream",
          "name": "stdout",
          "text": [
            "The area of rectangle is  31.5\n",
            "The Perimeter of rectangle is  63.0\n"
          ]
        }
      ]
    },
    {
      "cell_type": "markdown",
      "source": [
        "Application 2- Write a Python program to display a class name of OOP_58001 with your student no. and fullname (Surname, Firstname) as attributes"
      ],
      "metadata": {
        "id": "X30ZNDfC5BB_"
      }
    },
    {
      "cell_type": "code",
      "source": [
        "class OOP_58001:\n",
        "  def __init__(self, Studentno,Surname,Firstname):\n",
        "    self.Studentno = Studentno\n",
        "    self.Surname = Surname\n",
        "    self.Firstname = Firstname\n",
        "\n",
        "  def display(self):\n",
        "    print(\"You Belong to OOP 58001! You are\", self.Studentno, self.Surname+\",\", self.Firstname)\n",
        "\n",
        "student1 = OOP_58001(202110017, \"Sangco\", \"Jerrold\")\n",
        "student1.display()\n"
      ],
      "metadata": {
        "colab": {
          "base_uri": "https://localhost:8080/"
        },
        "id": "OS3GGwV95NLu",
        "outputId": "4ba2ffd9-2860-4da7-cd0a-c5c841d8a5bf"
      },
      "execution_count": null,
      "outputs": [
        {
          "output_type": "stream",
          "name": "stdout",
          "text": [
            "You Belong to OOP 58001! You are 202110017 Sangco, Jerrold\n"
          ]
        }
      ]
    },
    {
      "cell_type": "markdown",
      "source": [
        ""
      ],
      "metadata": {
        "id": "CVXq-Tp8rU89"
      }
    }
  ]
}