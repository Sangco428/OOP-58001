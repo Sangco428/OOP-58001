{
  "nbformat": 4,
  "nbformat_minor": 0,
  "metadata": {
    "colab": {
      "name": "Operations and Expressions.ipynb",
      "provenance": [],
      "authorship_tag": "ABX9TyO/GRf5+BfLblWYXlMOY6CI",
      "include_colab_link": true
    },
    "kernelspec": {
      "name": "python3",
      "display_name": "Python 3"
    },
    "language_info": {
      "name": "python"
    }
  },
  "cells": [
    {
      "cell_type": "markdown",
      "metadata": {
        "id": "view-in-github",
        "colab_type": "text"
      },
      "source": [
        "<a href=\"https://colab.research.google.com/github/Sangco428/OOP-58001/blob/main/Operations_and_Expressions.ipynb\" target=\"_parent\"><img src=\"https://colab.research.google.com/assets/colab-badge.svg\" alt=\"Open In Colab\"/></a>"
      ]
    },
    {
      "cell_type": "markdown",
      "source": [
        "Boolean Operators"
      ],
      "metadata": {
        "id": "OLnJGq5dkzTg"
      }
    },
    {
      "cell_type": "code",
      "execution_count": 1,
      "metadata": {
        "colab": {
          "base_uri": "https://localhost:8080/"
        },
        "id": "l6hpQ_ZskYgs",
        "outputId": "c0e7326c-aa45-4737-b5b4-2bf1f4ecc335"
      },
      "outputs": [
        {
          "output_type": "stream",
          "name": "stdout",
          "text": [
            "True\n",
            "False\n",
            "False\n"
          ]
        }
      ],
      "source": [
        "print(10>9)\n",
        "print(10==9)\n",
        "print(10<9)"
      ]
    },
    {
      "cell_type": "markdown",
      "source": [
        "bool() function"
      ],
      "metadata": {
        "id": "EQyRir15mKCJ"
      }
    },
    {
      "cell_type": "code",
      "source": [
        "print(bool(\"Maria\"))\n",
        "print(bool(19))\n",
        "print(bool([]))\n",
        "print(bool(0))\n",
        "print(bool(1))\n",
        "print(bool(None))\n",
        "print(bool(False))"
      ],
      "metadata": {
        "colab": {
          "base_uri": "https://localhost:8080/"
        },
        "id": "ICDV_fn1mMzs",
        "outputId": "1cfd9697-e187-4f39-e818-bb72f73b8427"
      },
      "execution_count": 2,
      "outputs": [
        {
          "output_type": "stream",
          "name": "stdout",
          "text": [
            "True\n",
            "True\n",
            "False\n",
            "False\n",
            "True\n",
            "False\n",
            "False\n"
          ]
        }
      ]
    },
    {
      "cell_type": "markdown",
      "source": [
        "Function can return a Boolean"
      ],
      "metadata": {
        "id": "zeqAdJvznBNk"
      }
    },
    {
      "cell_type": "code",
      "source": [
        "def myFunction():\n",
        "  return True\n",
        "\n",
        "print(myFunction())"
      ],
      "metadata": {
        "colab": {
          "base_uri": "https://localhost:8080/"
        },
        "id": "EOydIblcnFIl",
        "outputId": "376d4c3a-0121-40b5-9baa-ff04940f8c0c"
      },
      "execution_count": 11,
      "outputs": [
        {
          "output_type": "stream",
          "name": "stdout",
          "text": [
            "True\n"
          ]
        }
      ]
    },
    {
      "cell_type": "code",
      "source": [
        "if myFunction():\n",
        "  print(\"Yes!\")\n",
        "else:\n",
        "    print(\"No!\")"
      ],
      "metadata": {
        "colab": {
          "base_uri": "https://localhost:8080/"
        },
        "id": "PU2wbOnAnsqO",
        "outputId": "69fba46a-17f9-499c-b309-b6599af36a8d"
      },
      "execution_count": 12,
      "outputs": [
        {
          "output_type": "stream",
          "name": "stdout",
          "text": [
            "Yes!\n"
          ]
        }
      ]
    },
    {
      "cell_type": "markdown",
      "source": [
        "Application 1"
      ],
      "metadata": {
        "id": "ZWE6K6Amorhm"
      }
    },
    {
      "cell_type": "code",
      "source": [
        "print(10>9)\n",
        "\n",
        "a=60\n",
        "b=13\n",
        "print(a==b)\n",
        "print(a!=b)"
      ],
      "metadata": {
        "colab": {
          "base_uri": "https://localhost:8080/"
        },
        "id": "D7dJ7Dabolmh",
        "outputId": "33e03111-efa8-4158-b82b-88853d249e9a"
      },
      "execution_count": 24,
      "outputs": [
        {
          "output_type": "stream",
          "name": "stdout",
          "text": [
            "True\n",
            "False\n",
            "True\n"
          ]
        }
      ]
    },
    {
      "cell_type": "code",
      "source": [
        "print(a>b)\n",
        "\n",
        "if a<b:\n",
        "  print(\"a is less than b\") \n",
        "else:\n",
        "  print(\"a is greater than b\")"
      ],
      "metadata": {
        "colab": {
          "base_uri": "https://localhost:8080/"
        },
        "id": "mjzVV1bAqoOG",
        "outputId": "87fe5906-b963-4c76-91a0-c343c505f275"
      },
      "execution_count": 22,
      "outputs": [
        {
          "output_type": "stream",
          "name": "stdout",
          "text": [
            "False\n",
            "a is less than b\n"
          ]
        }
      ]
    },
    {
      "cell_type": "markdown",
      "source": [
        "Python Operators"
      ],
      "metadata": {
        "id": "wFJ_GDPFrcnU"
      }
    },
    {
      "cell_type": "code",
      "source": [
        "print(10+3)\n",
        "print(10-3)\n",
        "print(10*3)\n",
        "print(10//3)\n",
        "print(10%3)\n",
        "print(10/3)\n"
      ],
      "metadata": {
        "colab": {
          "base_uri": "https://localhost:8080/"
        },
        "id": "Ldt1MdANre5o",
        "outputId": "b2404998-888a-467e-f3aa-8f08bda4de21"
      },
      "execution_count": 25,
      "outputs": [
        {
          "output_type": "stream",
          "name": "stdout",
          "text": [
            "13\n",
            "7\n",
            "30\n",
            "3\n",
            "1\n",
            "3.3333333333333335\n"
          ]
        }
      ]
    },
    {
      "cell_type": "markdown",
      "source": [
        "Bitwise Operation"
      ],
      "metadata": {
        "id": "dbBBOFzmryip"
      }
    },
    {
      "cell_type": "code",
      "source": [
        "# a = 60, binary 0011 1100\n",
        "# b = 13, binary 0000 1101\n",
        "\n",
        "print(a&b)\n",
        "print(a|b)\n",
        "print(a^b)\n",
        "print(a<<2)\n"
      ],
      "metadata": {
        "colab": {
          "base_uri": "https://localhost:8080/"
        },
        "id": "rGGDEnKIr6D4",
        "outputId": "313dceb6-8332-45ee-8b45-a2ae02140616"
      },
      "execution_count": 33,
      "outputs": [
        {
          "output_type": "stream",
          "name": "stdout",
          "text": [
            "12\n",
            "61\n",
            "49\n",
            "240\n"
          ]
        }
      ]
    },
    {
      "cell_type": "markdown",
      "source": [
        "Application 2"
      ],
      "metadata": {
        "id": "pUmcVcPIvoSD"
      }
    },
    {
      "cell_type": "code",
      "source": [
        "#Assignment Operators\n",
        "x = 2\n",
        "print(x)\n",
        "x +=3 # is the same as x = x+3, 2+3=5\n",
        "print(x)\n",
        "x -=3 # is the same as x = x-3\n",
        "print(x)\n",
        "x *=3 # is the same as x = x*3\n",
        "print(x)\n",
        "x /=3 # is the same as x = x/3\n",
        "print(x)\n",
        "x %=3 # is the same as x = x%3\n",
        "print(x)"
      ],
      "metadata": {
        "colab": {
          "base_uri": "https://localhost:8080/"
        },
        "id": "h66DdY86vp_2",
        "outputId": "48f9fd6a-6ffe-4369-893a-463e78f1fd75"
      },
      "execution_count": 43,
      "outputs": [
        {
          "output_type": "stream",
          "name": "stdout",
          "text": [
            "2\n",
            "5\n",
            "2\n",
            "6\n",
            "2.0\n",
            "2.0\n"
          ]
        }
      ]
    },
    {
      "cell_type": "markdown",
      "source": [
        "Logical Operator"
      ],
      "metadata": {
        "id": "OWl1vrnryH_N"
      }
    },
    {
      "cell_type": "code",
      "source": [
        "k, l = True, False\n",
        "\n",
        "print(k and l)\n",
        "print(k or l)\n",
        "print(not(k or l))"
      ],
      "metadata": {
        "colab": {
          "base_uri": "https://localhost:8080/"
        },
        "id": "BgsyPsbHyKiB",
        "outputId": "d1c3eb0d-3cd2-426e-a677-abb112b4b14f"
      },
      "execution_count": 49,
      "outputs": [
        {
          "output_type": "stream",
          "name": "stdout",
          "text": [
            "False\n",
            "True\n",
            "False\n"
          ]
        }
      ]
    },
    {
      "cell_type": "markdown",
      "source": [
        "Identity Operators"
      ],
      "metadata": {
        "id": "-vIOCKmHywet"
      }
    },
    {
      "cell_type": "code",
      "source": [
        "k is l\n",
        "k is not l"
      ],
      "metadata": {
        "colab": {
          "base_uri": "https://localhost:8080/"
        },
        "id": "OOCbbpfcyyj0",
        "outputId": "22372093-9b09-4988-f8c6-ee88de678070"
      },
      "execution_count": 51,
      "outputs": [
        {
          "output_type": "execute_result",
          "data": {
            "text/plain": [
              "True"
            ]
          },
          "metadata": {},
          "execution_count": 51
        }
      ]
    },
    {
      "cell_type": "markdown",
      "source": [
        "#Control Structure"
      ],
      "metadata": {
        "id": "rwh7Z7WIy8h3"
      }
    },
    {
      "cell_type": "markdown",
      "source": [
        "If Statement"
      ],
      "metadata": {
        "id": "O4-RoiUJzz7A"
      }
    },
    {
      "cell_type": "code",
      "source": [
        "v = 1\n",
        "z = 2\n",
        "\n",
        "if v<z:\n",
        " print(\"1 is less than 2\")"
      ],
      "metadata": {
        "colab": {
          "base_uri": "https://localhost:8080/"
        },
        "id": "r1PCbf8my-q0",
        "outputId": "2f1c46dc-7aa9-4973-cbfa-dfc000293bc9"
      },
      "execution_count": 56,
      "outputs": [
        {
          "output_type": "stream",
          "name": "stdout",
          "text": [
            "1 is less than 2\n"
          ]
        }
      ]
    },
    {
      "cell_type": "markdown",
      "source": [
        "Elif"
      ],
      "metadata": {
        "id": "o3yOVm830gLx"
      }
    },
    {
      "cell_type": "code",
      "source": [
        "if v<z:\n",
        " print(\"1 is less than 2\")\n",
        "elif v>z:\n",
        "  print(\"v is greater than z\")"
      ],
      "metadata": {
        "id": "U3R1blY40hDl"
      },
      "execution_count": null,
      "outputs": []
    },
    {
      "cell_type": "markdown",
      "source": [
        "Else Statement"
      ],
      "metadata": {
        "id": "x6m_A5DE0wDe"
      }
    },
    {
      "cell_type": "code",
      "source": [
        "number = int(input()) #to know if the number is positive or negative\n",
        "\n",
        "if number>0:\n",
        " print(\"positive\")\n",
        "elif number<0:\n",
        "  print(\"negative\")\n",
        "else:\n",
        "  print(\"v is equal to z\")"
      ],
      "metadata": {
        "colab": {
          "base_uri": "https://localhost:8080/"
        },
        "id": "0hBbmldt0xuZ",
        "outputId": "4481c389-9027-4258-9759-f3a3915e8aa0"
      },
      "execution_count": 62,
      "outputs": [
        {
          "output_type": "stream",
          "name": "stdout",
          "text": [
            "-5\n",
            "negative\n"
          ]
        }
      ]
    },
    {
      "cell_type": "markdown",
      "source": [
        "Application - Develop a Python Program that will accept if a person is entitled to vote or not"
      ],
      "metadata": {
        "id": "nNaznOwC2504"
      }
    },
    {
      "cell_type": "code",
      "source": [
        "age = int(input())\n",
        "if age>=18:\n",
        " print(\"You are qualified to vote\")\n",
        "elif age<0:\n",
        "  print(\"You have inputted an invalid age\")\n",
        "else:\n",
        "  print(\"You are not qualified to vote\")"
      ],
      "metadata": {
        "colab": {
          "base_uri": "https://localhost:8080/"
        },
        "id": "U3Rin2Ap3Fgu",
        "outputId": "bc8081ef-e7dc-4c24-e7b0-c2a5248cb14a"
      },
      "execution_count": 64,
      "outputs": [
        {
          "output_type": "stream",
          "name": "stdout",
          "text": [
            "-15\n",
            "You have inputted an invalid age\n"
          ]
        }
      ]
    },
    {
      "cell_type": "markdown",
      "source": [
        "Nested If... Else"
      ],
      "metadata": {
        "id": "bur4HHWO3hq_"
      }
    },
    {
      "cell_type": "code",
      "source": [
        "u = int(input())\n",
        "if u>10:\n",
        "  print(\"u is above 10\")\n",
        "  if u>20:\n",
        "    print(\"u is above 20\")\n",
        "    if u>30:\n",
        "      print(\"u is above 30\")\n",
        "      if u>40:\n",
        "         print(\"u is above 40\")\n",
        "         if u>50:\n",
        "           print(\"u is above 50\")\n",
        "         else:\n",
        "           print(\"u is below 50\")\n"
      ],
      "metadata": {
        "colab": {
          "base_uri": "https://localhost:8080/"
        },
        "id": "NN8QGLfI3lTD",
        "outputId": "592de6e8-e3a4-4aee-c0e1-78e1d191159e"
      },
      "execution_count": 76,
      "outputs": [
        {
          "output_type": "stream",
          "name": "stdout",
          "text": [
            "49\n",
            "u is above 10\n",
            "u is above 20\n",
            "u is above 30\n",
            "u is above 40\n",
            "u is below 50\n"
          ]
        }
      ]
    },
    {
      "cell_type": "markdown",
      "source": [
        "Loop Statement"
      ],
      "metadata": {
        "id": "GstVEhrJ6sYZ"
      }
    },
    {
      "cell_type": "code",
      "source": [
        "week = [\"Sunday\", 'Monday', 'Tuesday', 'Wednesday', 'Thursday', 'Friday', 'Saturday']\n",
        "season = ['rainy', 'sunny']\n",
        "\n",
        "for x in week:\n",
        "  for y in season:\n",
        "   print(y, x)"
      ],
      "metadata": {
        "colab": {
          "base_uri": "https://localhost:8080/"
        },
        "id": "VEFT5xWE66l6",
        "outputId": "3e1b0c46-005e-476d-fa04-b9a503b63ff1"
      },
      "execution_count": 82,
      "outputs": [
        {
          "output_type": "stream",
          "name": "stdout",
          "text": [
            "rainy Sunday\n",
            "sunny Sunday\n",
            "rainy Monday\n",
            "sunny Monday\n",
            "rainy Tuesday\n",
            "sunny Tuesday\n",
            "rainy Wednesday\n",
            "sunny Wednesday\n",
            "rainy Thursday\n",
            "sunny Thursday\n",
            "rainy Friday\n",
            "sunny Friday\n",
            "rainy Saturday\n",
            "sunny Saturday\n"
          ]
        }
      ]
    },
    {
      "cell_type": "markdown",
      "source": [
        "The Break Statement"
      ],
      "metadata": {
        "id": "7yTuAHNK8pHb"
      }
    },
    {
      "cell_type": "code",
      "source": [
        "for x in week:\n",
        "  if x == \"Thursday\":\n",
        "    break\n",
        "print(x)"
      ],
      "metadata": {
        "colab": {
          "base_uri": "https://localhost:8080/"
        },
        "id": "TirNd9rH8riN",
        "outputId": "0078d87e-4aa5-48c0-c576-4292254addef"
      },
      "execution_count": 91,
      "outputs": [
        {
          "output_type": "stream",
          "name": "stdout",
          "text": [
            "Thursday\n"
          ]
        }
      ]
    },
    {
      "cell_type": "code",
      "source": [
        "#To display Sunday to Thursday\n",
        "for x in week:\n",
        "  if x == \"Thursday\":\n",
        "    break\n",
        "  print(x)"
      ],
      "metadata": {
        "colab": {
          "base_uri": "https://localhost:8080/"
        },
        "id": "Bb1aNwxo_Rof",
        "outputId": "553fdc8d-bd30-474c-9b81-0a2b580b1fb8"
      },
      "execution_count": 93,
      "outputs": [
        {
          "output_type": "stream",
          "name": "stdout",
          "text": [
            "Sunday\n",
            "Monday\n",
            "Tuesday\n",
            "Wednesday\n"
          ]
        }
      ]
    },
    {
      "cell_type": "markdown",
      "source": [
        "While Loop"
      ],
      "metadata": {
        "id": "Hw0Y_NfC_z-1"
      }
    },
    {
      "cell_type": "code",
      "source": [
        "i= 1\n",
        "while i<6:\n",
        "  print(i)\n",
        "  i +=1 #i+1 Assignment operator"
      ],
      "metadata": {
        "colab": {
          "base_uri": "https://localhost:8080/"
        },
        "id": "1M8SmgbK_3ax",
        "outputId": "6976911c-f1af-419a-a2da-fbef32cb8f5c"
      },
      "execution_count": 94,
      "outputs": [
        {
          "output_type": "stream",
          "name": "stdout",
          "text": [
            "1\n",
            "2\n",
            "3\n",
            "4\n",
            "5\n"
          ]
        }
      ]
    },
    {
      "cell_type": "markdown",
      "source": [
        "Application 4 - Create a Python Program that displays numbers from 1 to 4 using while loop"
      ],
      "metadata": {
        "id": "fyndjrGKAh1X"
      }
    },
    {
      "cell_type": "code",
      "source": [
        "j= 1\n",
        "while j<5:\n",
        "  print(j)\n",
        "  j +=1 "
      ],
      "metadata": {
        "colab": {
          "base_uri": "https://localhost:8080/"
        },
        "id": "67GJq9EBAlUR",
        "outputId": "2bac50cd-265f-4a0a-b937-61fbf0232dcd"
      },
      "execution_count": 103,
      "outputs": [
        {
          "output_type": "stream",
          "name": "stdout",
          "text": [
            "1\n",
            "2\n",
            "3\n",
            "4\n"
          ]
        }
      ]
    },
    {
      "cell_type": "markdown",
      "source": [
        "Application 5 - Create a Python Program that displays numbers from 1 to 4 using while loop and using break statement"
      ],
      "metadata": {
        "id": "Wwj-jZcqCGl9"
      }
    },
    {
      "cell_type": "code",
      "source": [
        "j= 1\n",
        "while j<=4:\n",
        "  if j ==4:\n",
        "    print(j)\n",
        "  j +=1 "
      ],
      "metadata": {
        "colab": {
          "base_uri": "https://localhost:8080/"
        },
        "id": "OV18UVSoCFpv",
        "outputId": "21bbe956-752b-4de3-a300-f6c7b71ab85b"
      },
      "execution_count": 106,
      "outputs": [
        {
          "output_type": "stream",
          "name": "stdout",
          "text": [
            "4\n"
          ]
        }
      ]
    }
  ]
}