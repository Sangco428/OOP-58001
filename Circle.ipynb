{
  "nbformat": 4,
  "nbformat_minor": 0,
  "metadata": {
    "colab": {
      "name": "Circle.ipynb",
      "provenance": [],
      "authorship_tag": "ABX9TyMduIdqbwsFNesFYzJsFgoD",
      "include_colab_link": true
    },
    "kernelspec": {
      "name": "python3",
      "display_name": "Python 3"
    },
    "language_info": {
      "name": "python"
    }
  },
  "cells": [
    {
      "cell_type": "markdown",
      "metadata": {
        "id": "view-in-github",
        "colab_type": "text"
      },
      "source": [
        "<a href=\"https://colab.research.google.com/github/Sangco428/OOP-58001/blob/main/Circle.ipynb\" target=\"_parent\"><img src=\"https://colab.research.google.com/assets/colab-badge.svg\" alt=\"Open In Colab\"/></a>"
      ]
    },
    {
      "cell_type": "code",
      "execution_count": 2,
      "metadata": {
        "colab": {
          "base_uri": "https://localhost:8080/"
        },
        "id": "ib20774UOY_v",
        "outputId": "3aac636e-b805-481d-a7a8-de212c2f5c89"
      },
      "outputs": [
        {
          "output_type": "stream",
          "name": "stdout",
          "text": [
            "Enter your radius\n",
            "5\n",
            "The area of a Circle is  78.53975\n",
            "The Perimeter (Circumference) of a Circle is  31.4159\n"
          ]
        }
      ],
      "source": [
        "class Circle():\n",
        "  def __init__(self,radius,pi):\n",
        "    self.radius = radius\n",
        "    self.pi = pi\n",
        "\n",
        "  def Area(self):\n",
        "    return self.pi*self.radius**2\n",
        "  \n",
        "  def Perimeter(self):\n",
        "    return 2*(self.pi*self.radius)\n",
        "\n",
        "  def Display(self):\n",
        "    print(\"The area of a Circle is \",self.Area())\n",
        "    print(\"The Perimeter (Circumference) of a Circle is \",self.Perimeter())\n",
        "\n",
        "print(\"Enter your radius\")\n",
        "\n",
        "Circle1 = Circle(int(input()),3.14159)\n",
        "Circle1.Display()"
      ]
    }
  ]
}