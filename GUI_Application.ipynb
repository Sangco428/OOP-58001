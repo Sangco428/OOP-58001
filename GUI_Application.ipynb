{
  "nbformat": 4,
  "nbformat_minor": 0,
  "metadata": {
    "colab": {
      "name": "GUI Application.ipynb",
      "provenance": [],
      "authorship_tag": "ABX9TyMeylqtT8rahIH9KB5TLKOH",
      "include_colab_link": true
    },
    "kernelspec": {
      "name": "python3",
      "display_name": "Python 3"
    },
    "language_info": {
      "name": "python"
    }
  },
  "cells": [
    {
      "cell_type": "markdown",
      "metadata": {
        "id": "view-in-github",
        "colab_type": "text"
      },
      "source": [
        "<a href=\"https://colab.research.google.com/github/Sangco428/OOP-58001/blob/main/GUI_Application.ipynb\" target=\"_parent\"><img src=\"https://colab.research.google.com/assets/colab-badge.svg\" alt=\"Open In Colab\"/></a>"
      ]
    },
    {
      "cell_type": "markdown",
      "source": [
        "Create a Pyhton Program that displays the grades of the students"
      ],
      "metadata": {
        "id": "X8nFYIyI_lQv"
      }
    },
    {
      "cell_type": "code",
      "execution_count": 6,
      "metadata": {
        "colab": {
          "base_uri": "https://localhost:8080/"
        },
        "id": "mvyub1m6_kLw",
        "outputId": "439f9601-e4df-4447-f9d8-305d128e2594"
      },
      "outputs": [
        {
          "output_type": "stream",
          "name": "stdout",
          "text": [
            "Student_Name Jerrold Sangco\n",
            "semestral grade of the student 90.0\n"
          ]
        }
      ],
      "source": [
        "#@title Students' Grade in Object-oriented Programming\n",
        "Student_Name = \"Jerrold Sangco\" #@param {type: \"string\"}\n",
        "prelim =  90#@param {type:\"number\"}\n",
        "midterm =  90#@param {type:\"number\"}\n",
        "final =  90#@param {type:\"number\"}\n",
        "semestral = (prelim*0.3+midterm*0.3+final*0.4)\n",
        "\n",
        "print(\"Student_Name \"+ Student_Name)\n",
        "print(\"semestral grade of the student \" + str(semestral))\n"
      ]
    },
    {
      "cell_type": "code",
      "source": [
        "#@title Gender\n",
        "\n",
        "Gender = \"Male\" #@param [\"Male\", \"Female\"]\n",
        "Birthdate = \"2003-05-31\" #@param {type: \"date\"}\n",
        "\n",
        "print(\"My birthdate is \" + Birthdate)\n",
        "print(\"My gender is \" + Gender)"
      ],
      "metadata": {
        "colab": {
          "base_uri": "https://localhost:8080/"
        },
        "id": "VdqFw6D9D5JQ",
        "outputId": "e09127ec-6099-4966-ad42-60809ca49f0e"
      },
      "execution_count": 8,
      "outputs": [
        {
          "output_type": "stream",
          "name": "stdout",
          "text": [
            "My birthdate is 2003-05-31\n",
            "My gender is Male\n"
          ]
        }
      ]
    }
  ]
}