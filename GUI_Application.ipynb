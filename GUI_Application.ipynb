{
  "nbformat": 4,
  "nbformat_minor": 0,
  "metadata": {
    "colab": {
      "name": "GUI Application.ipynb",
      "provenance": [],
      "authorship_tag": "ABX9TyMrvh+fTkJt2soDWlA3P6A/",
      "include_colab_link": true
    },
    "kernelspec": {
      "name": "python3",
      "display_name": "Python 3"
    },
    "language_info": {
      "name": "python"
    }
  },
  "cells": [
    {
      "cell_type": "markdown",
      "metadata": {
        "id": "view-in-github",
        "colab_type": "text"
      },
      "source": [
        "<a href=\"https://colab.research.google.com/github/Sangco428/OOP-58001/blob/main/GUI_Application.ipynb\" target=\"_parent\"><img src=\"https://colab.research.google.com/assets/colab-badge.svg\" alt=\"Open In Colab\"/></a>"
      ]
    },
    {
      "cell_type": "markdown",
      "source": [
        "Create a Pyhton Program that displays the grades of the students"
      ],
      "metadata": {
        "id": "X8nFYIyI_lQv"
      }
    },
    {
      "cell_type": "code",
      "execution_count": 4,
      "metadata": {
        "colab": {
          "base_uri": "https://localhost:8080/"
        },
        "id": "mvyub1m6_kLw",
        "outputId": "e6b70fda-652f-42f3-a7ee-2c5f89ee5474"
      },
      "outputs": [
        {
          "output_type": "stream",
          "name": "stdout",
          "text": [
            "Student_Name Maria Rizette H. Sayo\n",
            "semestral grade of the student 90.0\n"
          ]
        }
      ],
      "source": [
        "#@title Students' Grade in Object-oriented Programming\n",
        "Student_Name = \"Maria Rizette H. Sayo\" #@param {type: \"string\"}\n",
        "prelim =  90#@param {type:\"number\"}\n",
        "midterm =  90#@param {type:\"number\"}\n",
        "final =  90#@param {type:\"number\"}\n",
        "semestral = (prelim*0.3+midterm*0.3+final*0.4)\n",
        "\n",
        "print(\"Student_Name \"+ Student_Name)\n",
        "print(\"semestral grade of the student \" + str(semestral))\n"
      ]
    },
    {
      "cell_type": "code",
      "source": [
        "#@title Gender\n",
        "\n",
        "Gender = \"Male\" #@param [\"Male\", \"Female\"]\n",
        "Birthdate = \"2022-03-29\" #@param {type: \"date\"}\n",
        "\n",
        "print(\"My birthdate is \" + Birthdate)\n",
        "print(\"My gender is \" + Gender)"
      ],
      "metadata": {
        "colab": {
          "base_uri": "https://localhost:8080/"
        },
        "id": "VdqFw6D9D5JQ",
        "outputId": "3b705fc1-d974-477a-f0c4-5a18ac9f64cb"
      },
      "execution_count": 5,
      "outputs": [
        {
          "output_type": "stream",
          "name": "stdout",
          "text": [
            "My birthdate is 2022-03-29\n",
            "My gender is Male\n"
          ]
        }
      ]
    }
  ]
}